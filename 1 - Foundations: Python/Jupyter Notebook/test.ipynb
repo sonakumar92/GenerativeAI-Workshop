{
 "cells": [
  {
   "cell_type": "markdown",
   "id": "ff29f199",
   "metadata": {},
   "source": [
    "## Welcome to Python"
   ]
  },
  {
   "cell_type": "code",
   "execution_count": 7,
   "id": "4fb50935",
   "metadata": {},
   "outputs": [
    {
     "name": "stdout",
     "output_type": "stream",
     "text": [
      "Hello, World!\n"
     ]
    }
   ],
   "source": [
    "print(\"Hello, World!\")"
   ]
  },
  {
   "cell_type": "markdown",
   "id": "496cad25",
   "metadata": {},
   "source": [
    "### Hi"
   ]
  },
  {
   "cell_type": "markdown",
   "id": "e1d01b62",
   "metadata": {},
   "source": []
  }
 ],
 "metadata": {
  "kernelspec": {
   "display_name": "Python 3",
   "language": "python",
   "name": "python3"
  },
  "language_info": {
   "codemirror_mode": {
    "name": "ipython",
    "version": 3
   },
   "file_extension": ".py",
   "mimetype": "text/x-python",
   "name": "python",
   "nbconvert_exporter": "python",
   "pygments_lexer": "ipython3",
   "version": "3.13.3"
  }
 },
 "nbformat": 4,
 "nbformat_minor": 5
}
